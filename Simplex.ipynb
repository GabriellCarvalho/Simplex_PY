{
 "cells": [
  {
   "cell_type": "markdown",
   "id": "4a677471",
   "metadata": {},
   "source": [
    "# Implementação do método simplex para programação linear"
   ]
  },
  {
   "cell_type": "markdown",
   "id": "564ba89b",
   "metadata": {},
   "source": [
    "Implementação do algoritmo simplex em Python para resolver problemas de maximização e minimização, com restrições do tipo <=<br>\n",
    "Link Git: https://github.com/GabriellCarvalho/Simplex_PY"
   ]
  },
  {
   "cell_type": "code",
   "execution_count": 32,
   "id": "c8a3e5d6",
   "metadata": {},
   "outputs": [],
   "source": [
    "tabela = []                        # Declaração da variavel tabela\n",
    "\n",
    "def set_funcao_objetiva( fo):\n",
    "    tabela.append(fo)              # Adiciona a linha da função objetivo na tabela\n",
    "\n",
    "def add_resticoes( sa):   \n",
    "    tabela.append(sa)              # Adiciona a linha da restrição na tabela\n",
    "\n",
    "def get_coluna_entrando():\n",
    "    coluna_pivo = min(tabela[0])   # Retorna o menor valor da linha da função objetiva\n",
    "    index = tabela[0].index(coluna_pivo) # Indice do menor valor\n",
    "    return index                         # Retorna o indice\n",
    "\n",
    "def get_linha_sai( coluna_entrando):\n",
    "    resultado = {}                       # Cria um dicionario vazio\n",
    "    for linha in range(len(tabela)):     # Percorre cada linha da tabela\n",
    "        if linha > 0:                    # Se o indice linha for maior que 0, ou seja, não ser a linha da função objeivo\n",
    "            if tabela[linha][coluna_entrando] > 0: # Se o valor dessa posição for diferente de 0\n",
    "                divisao = tabela[linha][-1] / tabela[linha][coluna_entrando] #divide o ultimo elemento da linha \n",
    "                                                                             #pelo elemento pivô\n",
    "                resultado[linha] = divisao\n",
    "    index = min(resultado, key=resultado.get)# Pega o indice da linha com menor valor na divisao \n",
    "    return index                             # Retorna o indice\n",
    "\n",
    "def calcular_nova_linha_pivo( coluna_entrando, linha_saindo):\n",
    "    linha = tabela[linha_saindo]             # Linha que sai da tabela\n",
    "    pivo = linha[coluna_entrando]            # Linha pivô\n",
    "    nova_linha_pivo = [valor / pivo for valor in linha]# Para cada valor na linha, \n",
    "                                                       #divide pelo valor na linha pivô e salva na nova linha pivô\n",
    "    return nova_linha_pivo                   # Retorna a nova linha pivô\n",
    "\n",
    "def calcular_nova_linha( linha, coluna_entrando, linha_pivo):\n",
    "    pivo = linha[coluna_entrando] * -1    # Inverte o sinal do valor pivô da nova linha\n",
    "    linha_resultante = [valor * pivo for valor in linha_pivo] # Multiplica cada elemento na linha pelo pivô\n",
    "\n",
    "    nova_linha = []                      # Cria uma nova linha vazia\n",
    "    for i in range(len(linha_resultante)): # Para cada valor da linha resultante\n",
    "        soma = linha_resultante[i] + linha[i]# Soma com o valor na linha anterior (Ex:l0=l0anterior-(X)*pivô)\n",
    "        nova_linha.append(soma)              # Adiciona essa soma a nova linha\n",
    "    return nova_linha                        # Retorna a nova linha\n",
    "\n",
    "def is_negativo():                                          # Método para verificar se ha valor negativo\n",
    "    negativo = list(filter(lambda x: x < 0, tabela[0]))    \n",
    "    return True if len(negativo) > 0 else False\n",
    "\n",
    "def calcular():\n",
    "    coluna_entrando = get_coluna_entrando()                # Chama o método para calcular a coluna que entra\n",
    "    primeira_linha_sai = get_linha_sai(coluna_entrando)    # Chama o método para calcular a linha que sai\n",
    "\n",
    "    linha_pivo = calcular_nova_linha_pivo(coluna_entrando, primeira_linha_sai) # Chama o método para calcular a linha pivô\n",
    "    tabela[primeira_linha_sai] = linha_pivo                # Adiciona a linha pivô na tabela\n",
    "    copia_tabela = tabela.copy()                           # Cria uma copia da tabela\n",
    "\n",
    "    index = 0\n",
    "    while index < len(tabela):                             # Laço para percorrer toda a tabela\n",
    "        if index != primeira_linha_sai:                         # Se a linha não for a pivô\n",
    "            linha = copia_tabela[index]                         # Linha recebe linha pivô\n",
    "            nova_linha = calcular_nova_linha(linha,coluna_entrando, linha_pivo) # Calcula nova linha\n",
    "            tabela[index] = nova_linha                     # Adiciona a nova linha na tabela\n",
    "        index += 1\n",
    "\n",
    "def imprimir_tabela():                                      # Método para mostrar a tabela no console de execução\n",
    "    print()\n",
    "    print('--------------------------------------------------')\n",
    "    for i in range(len(tabela)):\n",
    "        for j in range(len(tabela[0])):\n",
    "            print(f\"{tabela[i][j]:.2f}\\t\", end=\"\")\n",
    "        print()\n",
    "    print('--------------------------------------------------')\n",
    "\n",
    "def resolver():                                             # Método que resolve o simplex\n",
    "    calcular()                                             # Faz o primeiro cálculo\n",
    "    while is_negativo():                                   # Se existir elementos negativos na linha \n",
    "        imprimir_tabela()                                  # Chama o método que mostra a tabela\n",
    "        calcular()                                         # Calcula novamente              \n",
    "    \n",
    "    imprimir_tabela()                                      # Chama o método que mostra a tabela                            \n"
   ]
  },
  {
   "cell_type": "markdown",
   "id": "53434560",
   "metadata": {},
   "source": [
    "## Problema\n",
    "<p>\n",
    "Um sapateiro faz 6 sapatos por hora, se fizer somente sapatos, e 5 cintos por hora, se fizer somente\n",
    "cintos. Ele gasta 2 unidades de couro para fabricar 1 unidade de sapato e 1 unidade de couro para fabricar\n",
    "uma unidade de cinto. Sabendo-se que o total disponível de couro é de 6 unidades e que o lucro unitário\n",
    "por sapato é de 5.00 e o do cinto é de 2.00, pede-se: o modelo do sistema de produção do sapateiro, se\n",
    "o objetivo é maximizar seu lucro por hora.\n",
    "</p>\n",
    "\n",
    "## Modelagem \n",
    "<p>\n",
    "Max Z = 5x<sub>1</sub>+ 2x<sub>2</sub><br>\n",
    "Sujeito a:<br>\n",
    "    2x<sub>1</sub> + x<sub>2</sub> <= 6<br>\n",
    "    10x<sub>1</sub> + 12x<sub>2</sub> <= 60<br>\n",
    "    x<sub>1</sub>, x<sub>2</sub> >= 0\n",
    "</p>\n",
    "<p>\n",
    "Forma padrão<br><br>\n",
    "Max  Z - 5x<sub>1</sub>- 2x<sub>2</sub> + 0x<sub>3</sub> + 0x<sub>4</sub> = 0<br>\n",
    "Sujeito a:<br>\n",
    "    2x<sub>1</sub> + x<sub>2</sub> + x<sub>3</sub> = 6<br>\n",
    "    10x<sub>1</sub> + 12x<sub>2</sub> + x<sub>4</sub> = 60<br>\n",
    "    x<sub>1</sub>, x<sub>2</sub>, x<sub>3</sub>, x<sub>4</sub> >= 0\n",
    "</p>\n",
    "\n"
   ]
  },
  {
   "cell_type": "code",
   "execution_count": 33,
   "id": "f2ac88c7",
   "metadata": {},
   "outputs": [
    {
     "name": "stdout",
     "output_type": "stream",
     "text": [
      "Tabela inicial\n",
      "\n",
      "--------------------------------------------------\n",
      "1.00\t-5.00\t-2.00\t0.00\t0.00\t0.00\t\n",
      "0.00\t2.00\t1.00\t1.00\t0.00\t6.00\t\n",
      "0.00\t10.00\t12.00\t0.00\t1.00\t60.00\t\n",
      "--------------------------------------------------\n",
      "\n",
      "--------------------------------------------------\n",
      "1.00\t0.00\t0.50\t2.50\t0.00\t15.00\t\n",
      "0.00\t1.00\t0.50\t0.50\t0.00\t3.00\t\n",
      "0.00\t0.00\t7.00\t-5.00\t1.00\t30.00\t\n",
      "--------------------------------------------------\n"
     ]
    }
   ],
   "source": [
    "tabela = []\n",
    "set_funcao_objetiva([1,-5,-2,0,0,0])\n",
    "add_resticoes([0,2,1,1,0,6])\n",
    "add_resticoes([0,10,12,0,1,60])\n",
    "print(\"Tabela inicial\")\n",
    "imprimir_tabela()\n",
    "resolver()"
   ]
  },
  {
   "cell_type": "markdown",
   "id": "aaa53ca9",
   "metadata": {},
   "source": [
    "Solução otima:<br>\n",
    "Z = 15<br>\n",
    "x<sub>1</sub> = 3<br>\n",
    "x<sub>2</sub> = 0<br>\n",
    "x<sub>3</sub> = 0<br>\n",
    "x<sub>4</sub> = 30<br>"
   ]
  },
  {
   "cell_type": "markdown",
   "id": "d306dfec",
   "metadata": {},
   "source": [
    "## Problema \n",
    "\n",
    "Um produtor independente dispõe de 2 unidades de geração, que podem ser conectadas ao\n",
    "sistema elétrico em pontos distintos, para a venda do excedente de energia elétrica que são\n",
    "capazes de produzir. Tanto os custos de produção quanto as tarifas negociadas para a venda de\n",
    "energia são distintos para os 2 geradores. O produtor deseja vender o máximo possível de\n",
    "energia seguindo, entretanto, seu plano de negócios, que não permite gastar acima de um\n",
    "valor pré-estabelecido para a produção de energia.\n"
   ]
  },
  {
   "cell_type": "markdown",
   "id": "69a6ecdb",
   "metadata": {},
   "source": [
    "<br>\n",
    "<img src=\"tabel1.png\">\n",
    "<br>"
   ]
  },
  {
   "cell_type": "markdown",
   "id": "fef4cf1c",
   "metadata": {},
   "source": [
    "## Modelagem\n",
    "\n",
    "Max Z = 90x<sub>1</sub> + 120x<sub>2</sub><br>\n",
    "Sujeito a:<br>\n",
    "x<sub>1</sub> <= 5.000 <br>\n",
    "x<sub>2</sub> <= 7.000 <br>\n",
    "50x<sub>1</sub> + 100x<sub>2</sub> <= 800.000<br>\n",
    "x<sub>1</sub>,x<sub>2</sub> >= 0<br>\n",
    "\n",
    "\n",
    "Forma padrão:\n",
    "\n",
    "Max Z - 90x<sub>1</sub> - 120x<sub>2</sub> + 0x<sub>3</sub> + 0x<sub>4</sub> + 0x<sub>5</sub>  = 0 <br>\n",
    "Sujeito a:<br>\n",
    "x<sub>1</sub> + x<sub>3</sub> = 5.000<br>\n",
    "x<sub>2</sub> + x<sub>4</sub> = 7.000<br>\n",
    "50x<sub>1</sub> + 100x<sub>2</sub> + x<sub>5</sub> = 800.000<br>\n",
    "x<sub>1</sub>, x<sub>2</sub>, x<sub>3</sub>, x<sub>4</sub>, x<sub>5</sub> >= 0<br>"
   ]
  },
  {
   "cell_type": "code",
   "execution_count": 34,
   "id": "5527d6ff",
   "metadata": {},
   "outputs": [
    {
     "name": "stdout",
     "output_type": "stream",
     "text": [
      "Tabela inicial\n",
      "\n",
      "--------------------------------------------------\n",
      "1.00\t-90.00\t-120.00\t0.00\t0.00\t0.00\t0.00\t\n",
      "0.00\t1.00\t0.00\t1.00\t0.00\t0.00\t5000.00\t\n",
      "0.00\t0.00\t1.00\t0.00\t1.00\t0.00\t7000.00\t\n",
      "0.00\t50.00\t100.00\t0.00\t0.00\t1.00\t800000.00\t\n",
      "--------------------------------------------------\n",
      "\n",
      "--------------------------------------------------\n",
      "1.00\t-90.00\t0.00\t0.00\t120.00\t0.00\t840000.00\t\n",
      "0.00\t1.00\t0.00\t1.00\t0.00\t0.00\t5000.00\t\n",
      "0.00\t0.00\t1.00\t0.00\t1.00\t0.00\t7000.00\t\n",
      "0.00\t50.00\t0.00\t0.00\t-100.00\t1.00\t100000.00\t\n",
      "--------------------------------------------------\n",
      "\n",
      "--------------------------------------------------\n",
      "1.00\t0.00\t0.00\t0.00\t-60.00\t1.80\t1020000.00\t\n",
      "0.00\t0.00\t0.00\t1.00\t2.00\t-0.02\t3000.00\t\n",
      "0.00\t0.00\t1.00\t0.00\t1.00\t0.00\t7000.00\t\n",
      "0.00\t1.00\t0.00\t0.00\t-2.00\t0.02\t2000.00\t\n",
      "--------------------------------------------------\n",
      "\n",
      "--------------------------------------------------\n",
      "1.00\t0.00\t0.00\t30.00\t0.00\t1.20\t1110000.00\t\n",
      "0.00\t0.00\t0.00\t0.50\t1.00\t-0.01\t1500.00\t\n",
      "0.00\t0.00\t1.00\t-0.50\t0.00\t0.01\t5500.00\t\n",
      "0.00\t1.00\t0.00\t1.00\t0.00\t0.00\t5000.00\t\n",
      "--------------------------------------------------\n"
     ]
    }
   ],
   "source": [
    "tabela = [] #zerar os dados da tabela\n",
    "set_funcao_objetiva([1,-90,-120,0,0,0,0])\n",
    "add_resticoes([0,1,0,1,0,0,5000])\n",
    "add_resticoes([0,0,1,0,1,0,7000])\n",
    "add_resticoes([0,50,100,0,0,1,800000])\n",
    "print(\"Tabela inicial\")\n",
    "imprimir_tabela()\n",
    "resolver()"
   ]
  },
  {
   "cell_type": "markdown",
   "id": "e916b27f",
   "metadata": {},
   "source": [
    "Solução otima:<br>\n",
    "Z = 1.110.000<br> \n",
    "x<sub>1</sub> = 5.000<br>\n",
    "x<sub>2</sub> = 5.500<br>\n",
    "x<sub>3</sub> = 0<br>\n",
    "x<sub>4</sub> = 1.500<br>\n",
    "x<sub>5</sub> = 0<br>"
   ]
  },
  {
   "cell_type": "markdown",
   "id": "781935b1",
   "metadata": {},
   "source": [
    "# Minimização"
   ]
  },
  {
   "cell_type": "code",
   "execution_count": 35,
   "id": "122a24de",
   "metadata": {},
   "outputs": [],
   "source": [
    "def get_coluna_entrando_min():\n",
    "    coluna_pivo = max(tabela[0])                           # Calcula o maior valor positivo na função objetivo\n",
    "    index = tabela[0].index(coluna_pivo)                   # Indice do maior valor\n",
    "    return index"
   ]
  },
  {
   "cell_type": "code",
   "execution_count": 36,
   "id": "ec6e4066",
   "metadata": {},
   "outputs": [],
   "source": [
    "def calcular_min():\n",
    "    coluna_entrando = get_coluna_entrando_min()            # Parte da implementação que mudou    \n",
    "    primeira_linha_sai = get_linha_sai(coluna_entrando)    \n",
    "\n",
    "    linha_pivo = calcular_nova_linha_pivo(coluna_entrando, primeira_linha_sai) \n",
    "    tabela[primeira_linha_sai] = linha_pivo                \n",
    "    copia_tabela = tabela.copy()\n",
    "    \n",
    "    index = 0\n",
    "    while index < len(tabela):                             \n",
    "        if index != primeira_linha_sai:                       \n",
    "            linha = copia_tabela[index]                       \n",
    "            nova_linha = calcular_nova_linha(linha,coluna_entrando, linha_pivo) \n",
    "            tabela[index] = nova_linha                     \n",
    "        index += 1\n",
    "        "
   ]
  },
  {
   "cell_type": "code",
   "execution_count": 37,
   "id": "5ac6772f",
   "metadata": {},
   "outputs": [],
   "source": [
    "def is_positivo():                                       # Verifica se existe valor positivo na linha da função objetivo        \n",
    "    return any(item > 0 for item in tabela[0])"
   ]
  },
  {
   "cell_type": "code",
   "execution_count": 38,
   "id": "40e2c421",
   "metadata": {},
   "outputs": [],
   "source": [
    "def resolver_min():                                    \n",
    "    \n",
    "    tabela[0][0] = -1                                   # Gambiarra para o programa nao entrar em loop.\n",
    "    calcular_min()\n",
    "    while is_positivo():\n",
    "        imprimir_tabela() \n",
    "        calcular_min()\n",
    "        \n",
    "    tabela[0][0] = 1                                   # Retirando a gambiarra.\n",
    "    imprimir_tabela()"
   ]
  },
  {
   "cell_type": "markdown",
   "id": "46aa5c73",
   "metadata": {},
   "source": [
    "## Problema de minimização proposto em sala\n",
    "Min Z = -2x<sub>1</sub> + x<sub>2</sub> - x<sub>3</sub><br>\n",
    "Sujeito a:<br>\n",
    "3x<sub>1</sub> + x<sub>2</sub> + x<sub>3</sub> <= 60 <br>\n",
    "x<sub>1</sub> - x<sub>2</sub> + 2x<sub>3</sub> <= 10 <br>\n",
    "x<sub>1</sub> + x<sub>2</sub> - x<sub>3</sub> <= 20 <br>\n",
    "x<sub>1</sub>, x<sub>2</sub>, x<sub>3</sub> >= 0 <br>\n",
    "\n",
    "### Passando para forma padrão\n",
    "\n",
    "Min Z + 2x<sub>1</sub> - x<sub>2</sub> + x<sub>3</sub> + 0x<sub>4</sub> + 0x<sub>5</sub> + 0x<sub>6</sub> = 0<br>\n",
    "Sujeito a:<br>\n",
    "3x<sub>1</sub> + x<sub>2</sub> + x<sub>3</sub> + x<sub>4</sub> = 60 <br>\n",
    "x<sub>1</sub> - x<sub>2</sub> + 2x<sub>3</sub> + x<sub>5</sub> = 10 <br>\n",
    "x<sub>1</sub> + x<sub>2</sub> - x<sub>3</sub>  + x<sub>6</sub> = 20 <br>\n",
    "x<sub>1</sub>, x<sub>2</sub>, x<sub>3</sub>, x<sub>4</sub>, x<sub>5</sub>, x<sub>6</sub> >= 0 <br>"
   ]
  },
  {
   "cell_type": "code",
   "execution_count": 39,
   "id": "ed965598",
   "metadata": {},
   "outputs": [
    {
     "name": "stdout",
     "output_type": "stream",
     "text": [
      "Tabela inicial\n",
      "\n",
      "--------------------------------------------------\n",
      "1.00\t2.00\t-1.00\t1.00\t0.00\t0.00\t0.00\t0.00\t\n",
      "0.00\t3.00\t1.00\t1.00\t1.00\t0.00\t0.00\t60.00\t\n",
      "0.00\t1.00\t-1.00\t2.00\t0.00\t1.00\t0.00\t10.00\t\n",
      "0.00\t1.00\t1.00\t-1.00\t0.00\t0.00\t1.00\t20.00\t\n",
      "--------------------------------------------------\n",
      "\n",
      "--------------------------------------------------\n",
      "-1.00\t0.00\t1.00\t-3.00\t0.00\t-2.00\t0.00\t-20.00\t\n",
      "0.00\t0.00\t4.00\t-5.00\t1.00\t-3.00\t0.00\t30.00\t\n",
      "0.00\t1.00\t-1.00\t2.00\t0.00\t1.00\t0.00\t10.00\t\n",
      "0.00\t0.00\t2.00\t-3.00\t0.00\t-1.00\t1.00\t10.00\t\n",
      "--------------------------------------------------\n",
      "\n",
      "--------------------------------------------------\n",
      "1.00\t0.00\t0.00\t-1.50\t0.00\t-1.50\t-0.50\t-25.00\t\n",
      "0.00\t0.00\t0.00\t1.00\t1.00\t-1.00\t-2.00\t10.00\t\n",
      "0.00\t1.00\t0.00\t0.50\t0.00\t0.50\t0.50\t15.00\t\n",
      "0.00\t0.00\t1.00\t-1.50\t0.00\t-0.50\t0.50\t5.00\t\n",
      "--------------------------------------------------\n"
     ]
    }
   ],
   "source": [
    "tabela = []\n",
    "set_funcao_objetiva([1,2,-1,1,0,0,0,0])\n",
    "add_resticoes([0,3,1,1,1,0,0,60])\n",
    "add_resticoes([0,1,-1,2,0,1,0,10])\n",
    "add_resticoes([0,1,1,-1,0,0,1,20])  \n",
    "print(\"Tabela inicial\")\n",
    "imprimir_tabela()\n",
    "resolver_min()"
   ]
  },
  {
   "cell_type": "markdown",
   "id": "c5b29b75",
   "metadata": {},
   "source": [
    "Solução otima:<br>\n",
    "Z = -25 <br> \n",
    "x<sub>1</sub> = 15<br>\n",
    "x<sub>2</sub> = 0<br>\n",
    "x<sub>3</sub> = 0<br>\n",
    "x<sub>4</sub> = 10<br>\n",
    "x<sub>5</sub> = 0<br>\n",
    "x<sub>6</sub> = 5<br>"
   ]
  },
  {
   "cell_type": "markdown",
   "id": "7eab0332",
   "metadata": {},
   "source": [
    "## Referencias:\n",
    "https://www.revistaespacios.com/a17v38n60/a17v38n60p04.pdf <br>\n",
    "https://www.youtube.com/watch?v=Dh-uWR5VPTU&ab_channel=DemandaNerd <bt>\n"
   ]
  }
 ],
 "metadata": {
  "kernelspec": {
   "display_name": "Python 3 (ipykernel)",
   "language": "python",
   "name": "python3"
  },
  "language_info": {
   "codemirror_mode": {
    "name": "ipython",
    "version": 3
   },
   "file_extension": ".py",
   "mimetype": "text/x-python",
   "name": "python",
   "nbconvert_exporter": "python",
   "pygments_lexer": "ipython3",
   "version": "3.9.12"
  }
 },
 "nbformat": 4,
 "nbformat_minor": 5
}
